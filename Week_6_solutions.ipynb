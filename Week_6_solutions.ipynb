{
 "cells": [
  {
   "cell_type": "markdown",
   "id": "d299d70f",
   "metadata": {},
   "source": [
    "### Question 1.\n",
    "\n",
    "* You collected data about coral cover (number of coral heads from a species X) in 100 quadrats in 2018 in region Y.\n",
    " * Quadrat size in not relevant or important\n",
    "* You hypothesize that the environmental stressor that occurred earlier caused a deciline in species X's coverage in the region Y\n",
    "* You re-assessed the coral coverage in 25 of the quadrats you initially sampled in 2018 \n",
    "\n",
    "* Use sampling to conclude whether the average coverage has decrease between 2018 and after the stressor event.\n",
    "  * Plot your result and compute the p-value of the event.\n",
    "  * i.e., what does the null distrubution for averages look like and where does your actual observer value occur\n",
    "\n",
    "* Use the data is below. \n"
   ]
  },
  {
   "cell_type": "code",
   "execution_count": 1,
   "id": "82a685e1",
   "metadata": {},
   "outputs": [
    {
     "name": "stderr",
     "output_type": "stream",
     "text": [
      "Registered S3 methods overwritten by 'ggplot2':\n",
      "  method         from \n",
      "  [.quosures     rlang\n",
      "  c.quosures     rlang\n",
      "  print.quosures rlang\n",
      "Registered S3 method overwritten by 'rvest':\n",
      "  method            from\n",
      "  read_xml.response xml2\n",
      "-- Attaching packages --------------------------------------- tidyverse 1.2.1 --\n",
      "v ggplot2 3.1.1       v purrr   0.3.2  \n",
      "v tibble  2.1.1       v dplyr   0.8.0.1\n",
      "v tidyr   0.8.3       v stringr 1.4.0  \n",
      "v readr   1.3.1       v forcats 0.4.0  \n",
      "-- Conflicts ------------------------------------------ tidyverse_conflicts() --\n",
      "x dplyr::filter() masks stats::filter()\n",
      "x dplyr::lag()    masks stats::lag()\n",
      "Parsed with column specification:\n",
      "cols(\n",
      "  transect_id = col_double(),\n",
      "  coverage = col_double()\n",
      ")\n"
     ]
    }
   ],
   "source": [
    "library(tidyverse)\n",
    "data = read_csv(\"data/survey_2018.csv\")"
   ]
  },
  {
   "cell_type": "code",
   "execution_count": 4,
   "id": "b1fa9943",
   "metadata": {},
   "outputs": [
    {
     "data": {
      "text/html": [
       "<table>\n",
       "<thead><tr><th scope=col>transect_id</th><th scope=col>coverage</th></tr></thead>\n",
       "<tbody>\n",
       "\t<tr><td> 1</td><td>26</td></tr>\n",
       "\t<tr><td> 2</td><td>32</td></tr>\n",
       "\t<tr><td> 3</td><td>21</td></tr>\n",
       "\t<tr><td> 4</td><td>21</td></tr>\n",
       "\t<tr><td> 5</td><td>26</td></tr>\n",
       "\t<tr><td> 6</td><td>23</td></tr>\n",
       "\t<tr><td> 7</td><td>15</td></tr>\n",
       "\t<tr><td> 8</td><td>18</td></tr>\n",
       "\t<tr><td> 9</td><td>24</td></tr>\n",
       "\t<tr><td>10</td><td>23</td></tr>\n",
       "\t<tr><td>11</td><td>27</td></tr>\n",
       "\t<tr><td>12</td><td>12</td></tr>\n",
       "\t<tr><td>13</td><td>12</td></tr>\n",
       "\t<tr><td>14</td><td>13</td></tr>\n",
       "\t<tr><td>15</td><td>26</td></tr>\n",
       "\t<tr><td>16</td><td>29</td></tr>\n",
       "\t<tr><td>17</td><td>25</td></tr>\n",
       "\t<tr><td>18</td><td>19</td></tr>\n",
       "\t<tr><td>19</td><td> 9</td></tr>\n",
       "\t<tr><td>20</td><td>20</td></tr>\n",
       "\t<tr><td>21</td><td>29</td></tr>\n",
       "\t<tr><td>22</td><td>27</td></tr>\n",
       "\t<tr><td>23</td><td>17</td></tr>\n",
       "\t<tr><td>24</td><td>27</td></tr>\n",
       "\t<tr><td>25</td><td>29</td></tr>\n",
       "\t<tr><td>26</td><td>25</td></tr>\n",
       "\t<tr><td>27</td><td>25</td></tr>\n",
       "\t<tr><td>28</td><td>13</td></tr>\n",
       "\t<tr><td>29</td><td>22</td></tr>\n",
       "\t<tr><td>30</td><td>19</td></tr>\n",
       "\t<tr><td>...</td><td>...</td></tr>\n",
       "\t<tr><td> 71</td><td>18 </td></tr>\n",
       "\t<tr><td> 72</td><td>17 </td></tr>\n",
       "\t<tr><td> 73</td><td>20 </td></tr>\n",
       "\t<tr><td> 74</td><td>16 </td></tr>\n",
       "\t<tr><td> 75</td><td>18 </td></tr>\n",
       "\t<tr><td> 76</td><td>17 </td></tr>\n",
       "\t<tr><td> 77</td><td>16 </td></tr>\n",
       "\t<tr><td> 78</td><td>15 </td></tr>\n",
       "\t<tr><td> 79</td><td>11 </td></tr>\n",
       "\t<tr><td> 80</td><td>34 </td></tr>\n",
       "\t<tr><td> 81</td><td>19 </td></tr>\n",
       "\t<tr><td> 82</td><td>12 </td></tr>\n",
       "\t<tr><td> 83</td><td>13 </td></tr>\n",
       "\t<tr><td> 84</td><td>21 </td></tr>\n",
       "\t<tr><td> 85</td><td>18 </td></tr>\n",
       "\t<tr><td> 86</td><td>28 </td></tr>\n",
       "\t<tr><td> 87</td><td>13 </td></tr>\n",
       "\t<tr><td> 88</td><td>18 </td></tr>\n",
       "\t<tr><td> 89</td><td>20 </td></tr>\n",
       "\t<tr><td> 90</td><td>18 </td></tr>\n",
       "\t<tr><td> 91</td><td>22 </td></tr>\n",
       "\t<tr><td> 92</td><td>22 </td></tr>\n",
       "\t<tr><td> 93</td><td>17 </td></tr>\n",
       "\t<tr><td> 94</td><td>22 </td></tr>\n",
       "\t<tr><td> 95</td><td>20 </td></tr>\n",
       "\t<tr><td> 96</td><td>14 </td></tr>\n",
       "\t<tr><td> 97</td><td>23 </td></tr>\n",
       "\t<tr><td> 98</td><td>30 </td></tr>\n",
       "\t<tr><td> 99</td><td>33 </td></tr>\n",
       "\t<tr><td>100</td><td>24 </td></tr>\n",
       "</tbody>\n",
       "</table>\n"
      ],
      "text/latex": [
       "\\begin{tabular}{r|ll}\n",
       " transect\\_id & coverage\\\\\n",
       "\\hline\n",
       "\t  1 & 26\\\\\n",
       "\t  2 & 32\\\\\n",
       "\t  3 & 21\\\\\n",
       "\t  4 & 21\\\\\n",
       "\t  5 & 26\\\\\n",
       "\t  6 & 23\\\\\n",
       "\t  7 & 15\\\\\n",
       "\t  8 & 18\\\\\n",
       "\t  9 & 24\\\\\n",
       "\t 10 & 23\\\\\n",
       "\t 11 & 27\\\\\n",
       "\t 12 & 12\\\\\n",
       "\t 13 & 12\\\\\n",
       "\t 14 & 13\\\\\n",
       "\t 15 & 26\\\\\n",
       "\t 16 & 29\\\\\n",
       "\t 17 & 25\\\\\n",
       "\t 18 & 19\\\\\n",
       "\t 19 &  9\\\\\n",
       "\t 20 & 20\\\\\n",
       "\t 21 & 29\\\\\n",
       "\t 22 & 27\\\\\n",
       "\t 23 & 17\\\\\n",
       "\t 24 & 27\\\\\n",
       "\t 25 & 29\\\\\n",
       "\t 26 & 25\\\\\n",
       "\t 27 & 25\\\\\n",
       "\t 28 & 13\\\\\n",
       "\t 29 & 22\\\\\n",
       "\t 30 & 19\\\\\n",
       "\t ... & ...\\\\\n",
       "\t  71 & 18 \\\\\n",
       "\t  72 & 17 \\\\\n",
       "\t  73 & 20 \\\\\n",
       "\t  74 & 16 \\\\\n",
       "\t  75 & 18 \\\\\n",
       "\t  76 & 17 \\\\\n",
       "\t  77 & 16 \\\\\n",
       "\t  78 & 15 \\\\\n",
       "\t  79 & 11 \\\\\n",
       "\t  80 & 34 \\\\\n",
       "\t  81 & 19 \\\\\n",
       "\t  82 & 12 \\\\\n",
       "\t  83 & 13 \\\\\n",
       "\t  84 & 21 \\\\\n",
       "\t  85 & 18 \\\\\n",
       "\t  86 & 28 \\\\\n",
       "\t  87 & 13 \\\\\n",
       "\t  88 & 18 \\\\\n",
       "\t  89 & 20 \\\\\n",
       "\t  90 & 18 \\\\\n",
       "\t  91 & 22 \\\\\n",
       "\t  92 & 22 \\\\\n",
       "\t  93 & 17 \\\\\n",
       "\t  94 & 22 \\\\\n",
       "\t  95 & 20 \\\\\n",
       "\t  96 & 14 \\\\\n",
       "\t  97 & 23 \\\\\n",
       "\t  98 & 30 \\\\\n",
       "\t  99 & 33 \\\\\n",
       "\t 100 & 24 \\\\\n",
       "\\end{tabular}\n"
      ],
      "text/markdown": [
       "\n",
       "| transect_id | coverage |\n",
       "|---|---|\n",
       "|  1 | 26 |\n",
       "|  2 | 32 |\n",
       "|  3 | 21 |\n",
       "|  4 | 21 |\n",
       "|  5 | 26 |\n",
       "|  6 | 23 |\n",
       "|  7 | 15 |\n",
       "|  8 | 18 |\n",
       "|  9 | 24 |\n",
       "| 10 | 23 |\n",
       "| 11 | 27 |\n",
       "| 12 | 12 |\n",
       "| 13 | 12 |\n",
       "| 14 | 13 |\n",
       "| 15 | 26 |\n",
       "| 16 | 29 |\n",
       "| 17 | 25 |\n",
       "| 18 | 19 |\n",
       "| 19 |  9 |\n",
       "| 20 | 20 |\n",
       "| 21 | 29 |\n",
       "| 22 | 27 |\n",
       "| 23 | 17 |\n",
       "| 24 | 27 |\n",
       "| 25 | 29 |\n",
       "| 26 | 25 |\n",
       "| 27 | 25 |\n",
       "| 28 | 13 |\n",
       "| 29 | 22 |\n",
       "| 30 | 19 |\n",
       "| ... | ... |\n",
       "|  71 | 18  |\n",
       "|  72 | 17  |\n",
       "|  73 | 20  |\n",
       "|  74 | 16  |\n",
       "|  75 | 18  |\n",
       "|  76 | 17  |\n",
       "|  77 | 16  |\n",
       "|  78 | 15  |\n",
       "|  79 | 11  |\n",
       "|  80 | 34  |\n",
       "|  81 | 19  |\n",
       "|  82 | 12  |\n",
       "|  83 | 13  |\n",
       "|  84 | 21  |\n",
       "|  85 | 18  |\n",
       "|  86 | 28  |\n",
       "|  87 | 13  |\n",
       "|  88 | 18  |\n",
       "|  89 | 20  |\n",
       "|  90 | 18  |\n",
       "|  91 | 22  |\n",
       "|  92 | 22  |\n",
       "|  93 | 17  |\n",
       "|  94 | 22  |\n",
       "|  95 | 20  |\n",
       "|  96 | 14  |\n",
       "|  97 | 23  |\n",
       "|  98 | 30  |\n",
       "|  99 | 33  |\n",
       "| 100 | 24  |\n",
       "\n"
      ],
      "text/plain": [
       "    transect_id coverage\n",
       "1    1          26      \n",
       "2    2          32      \n",
       "3    3          21      \n",
       "4    4          21      \n",
       "5    5          26      \n",
       "6    6          23      \n",
       "7    7          15      \n",
       "8    8          18      \n",
       "9    9          24      \n",
       "10  10          23      \n",
       "11  11          27      \n",
       "12  12          12      \n",
       "13  13          12      \n",
       "14  14          13      \n",
       "15  15          26      \n",
       "16  16          29      \n",
       "17  17          25      \n",
       "18  18          19      \n",
       "19  19           9      \n",
       "20  20          20      \n",
       "21  21          29      \n",
       "22  22          27      \n",
       "23  23          17      \n",
       "24  24          27      \n",
       "25  25          29      \n",
       "26  26          25      \n",
       "27  27          25      \n",
       "28  28          13      \n",
       "29  29          22      \n",
       "30  30          19      \n",
       "... ...         ...     \n",
       "71   71         18      \n",
       "72   72         17      \n",
       "73   73         20      \n",
       "74   74         16      \n",
       "75   75         18      \n",
       "76   76         17      \n",
       "77   77         16      \n",
       "78   78         15      \n",
       "79   79         11      \n",
       "80   80         34      \n",
       "81   81         19      \n",
       "82   82         12      \n",
       "83   83         13      \n",
       "84   84         21      \n",
       "85   85         18      \n",
       "86   86         28      \n",
       "87   87         13      \n",
       "88   88         18      \n",
       "89   89         20      \n",
       "90   90         18      \n",
       "91   91         22      \n",
       "92   92         22      \n",
       "93   93         17      \n",
       "94   94         22      \n",
       "95   95         20      \n",
       "96   96         14      \n",
       "97   97         23      \n",
       "98   98         30      \n",
       "99   99         33      \n",
       "100 100         24      "
      ]
     },
     "metadata": {},
     "output_type": "display_data"
    }
   ],
   "source": [
    "data"
   ]
  },
  {
   "cell_type": "code",
   "execution_count": 19,
   "id": "5396afc0",
   "metadata": {},
   "outputs": [
    {
     "name": "stdout",
     "output_type": "stream",
     "text": [
      "# A tibble: 100 x 2\n",
      "   transect_id coverage\n",
      "         <dbl>    <dbl>\n",
      " 1           1       26\n",
      " 2           2       32\n",
      " 3           3       21\n",
      " 4           4       21\n",
      " 5           5       26\n",
      " 6           6       23\n",
      " 7           7       15\n",
      " 8           8       18\n",
      " 9           9       24\n",
      "10          10       23\n",
      "# ... with 90 more rows\n"
     ]
    }
   ],
   "source": [
    "data2018 = as_tibble(data)\n",
    "print(data2018)"
   ]
  },
  {
   "cell_type": "code",
   "execution_count": 24,
   "id": "76c7c25e",
   "metadata": {},
   "outputs": [
    {
     "name": "stdout",
     "output_type": "stream",
     "text": [
      "# A tibble: 100 x 2\n",
      "   transect_id coverage\n",
      "         <int>    <dbl>\n",
      " 1           1       26\n",
      " 2           2       32\n",
      " 3           3       21\n",
      " 4           4       21\n",
      " 5           5       26\n",
      " 6           6       23\n",
      " 7           7       15\n",
      " 8           8       18\n",
      " 9           9       24\n",
      "10          10       23\n",
      "# ... with 90 more rows\n"
     ]
    }
   ],
   "source": [
    "data2018 <- read_csv(\"data/survey_2018.csv\",\n",
    "                      col_types = cols(\n",
    "                        transect_id = col_integer(),\n",
    "                        coverage = col_double()\n",
    "                      ))\n",
    "print(data2018)"
   ]
  },
  {
   "cell_type": "code",
   "execution_count": 26,
   "id": "99a5dc84",
   "metadata": {},
   "outputs": [
    {
     "data": {
      "text/html": [
       "<ol class=list-inline>\n",
       "\t<li>12</li>\n",
       "\t<li>29</li>\n",
       "\t<li>16</li>\n",
       "\t<li>19</li>\n",
       "\t<li>12</li>\n",
       "\t<li>18</li>\n",
       "\t<li>27</li>\n",
       "\t<li>18</li>\n",
       "\t<li>20</li>\n",
       "\t<li>37</li>\n",
       "\t<li>20</li>\n",
       "\t<li>25</li>\n",
       "\t<li>21</li>\n",
       "\t<li>22</li>\n",
       "\t<li>25</li>\n",
       "\t<li>22</li>\n",
       "\t<li>26</li>\n",
       "\t<li>26</li>\n",
       "\t<li>18</li>\n",
       "\t<li>18</li>\n",
       "\t<li>14</li>\n",
       "\t<li>22</li>\n",
       "\t<li>19</li>\n",
       "\t<li>22</li>\n",
       "\t<li>26</li>\n",
       "</ol>\n"
      ],
      "text/latex": [
       "\\begin{enumerate*}\n",
       "\\item 12\n",
       "\\item 29\n",
       "\\item 16\n",
       "\\item 19\n",
       "\\item 12\n",
       "\\item 18\n",
       "\\item 27\n",
       "\\item 18\n",
       "\\item 20\n",
       "\\item 37\n",
       "\\item 20\n",
       "\\item 25\n",
       "\\item 21\n",
       "\\item 22\n",
       "\\item 25\n",
       "\\item 22\n",
       "\\item 26\n",
       "\\item 26\n",
       "\\item 18\n",
       "\\item 18\n",
       "\\item 14\n",
       "\\item 22\n",
       "\\item 19\n",
       "\\item 22\n",
       "\\item 26\n",
       "\\end{enumerate*}\n"
      ],
      "text/markdown": [
       "1. 12\n",
       "2. 29\n",
       "3. 16\n",
       "4. 19\n",
       "5. 12\n",
       "6. 18\n",
       "7. 27\n",
       "8. 18\n",
       "9. 20\n",
       "10. 37\n",
       "11. 20\n",
       "12. 25\n",
       "13. 21\n",
       "14. 22\n",
       "15. 25\n",
       "16. 22\n",
       "17. 26\n",
       "18. 26\n",
       "19. 18\n",
       "20. 18\n",
       "21. 14\n",
       "22. 22\n",
       "23. 19\n",
       "24. 22\n",
       "25. 26\n",
       "\n",
       "\n"
      ],
      "text/plain": [
       " [1] 12 29 16 19 12 18 27 18 20 37 20 25 21 22 25 22 26 26 18 18 14 22 19 22 26"
      ]
     },
     "metadata": {},
     "output_type": "display_data"
    }
   ],
   "source": [
    "sample(data2018$coverage, 25)"
   ]
  },
  {
   "cell_type": "code",
   "execution_count": 30,
   "id": "909d3ce0",
   "metadata": {},
   "outputs": [],
   "source": [
    "n = 1000\n",
    "\n",
    "sample_means = n %>%\n",
    "  replicate(sample(data2018$coverage, 25)) %>%\n",
    "  t() %>%\n",
    "  apply(  1, mean)"
   ]
  },
  {
   "cell_type": "code",
   "execution_count": 32,
   "id": "bd41e9e7",
   "metadata": {},
   "outputs": [
    {
     "data": {
      "image/png": "[encoded data removed]",
      "text/plain": [
       "plot without title"
      ]
     },
     "metadata": {},
     "output_type": "display_data"
    }
   ],
   "source": [
    "ggplot() + \n",
    "  geom_histogram(aes(x=sample_means, y=..density..), bins = 25, alpha=0.1, color=\"black\", size=0.05) "
   ]
  },
  {
   "cell_type": "code",
   "execution_count": 35,
   "id": "6bb68d8f",
   "metadata": {},
   "outputs": [
    {
     "data": {
      "text/html": [
       "20.82492"
      ],
      "text/latex": [
       "20.82492"
      ],
      "text/markdown": [
       "20.82492"
      ],
      "text/plain": [
       "[1] 20.82492"
      ]
     },
     "metadata": {},
     "output_type": "display_data"
    }
   ],
   "source": [
    "mean2021 = 24\n",
    "mean(sample_means)"
   ]
  },
  {
   "cell_type": "code",
   "execution_count": 36,
   "id": "50072240",
   "metadata": {},
   "outputs": [
    {
     "data": {
      "text/html": [
       "0"
      ],
      "text/latex": [
       "0"
      ],
      "text/markdown": [
       "0"
      ],
      "text/plain": [
       "[1] 0"
      ]
     },
     "metadata": {},
     "output_type": "display_data"
    }
   ],
   "source": [
    "sum(sample_means > 24 )"
   ]
  }
 ],
 "metadata": {
  "kernelspec": {
   "display_name": "R",
   "language": "R",
   "name": "ir"
  },
  "language_info": {
   "codemirror_mode": "r",
   "file_extension": ".r",
   "mimetype": "text/x-r-source",
   "name": "R",
   "pygments_lexer": "r",
   "version": "3.6.1"
  }
 },
 "nbformat": 4,
 "nbformat_minor": 5
}
